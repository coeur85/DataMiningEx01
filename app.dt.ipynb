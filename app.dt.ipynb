{
 "cells": [
  {
   "cell_type": "code",
   "execution_count": 29,
   "metadata": {},
   "outputs": [],
   "source": [
    "import pandas as pd\n",
    "from sklearn.model_selection import train_test_split\n",
    "from sklearn.tree import DecisionTreeRegressor        \n",
    "from sklearn.preprocessing import LabelEncoder       \n",
    "from sklearn.metrics import accuracy_score\n"
   ]
  },
  {
   "cell_type": "code",
   "execution_count": 30,
   "metadata": {},
   "outputs": [],
   "source": [
    "df = pd.read_csv('data.csv',sep=',')                                # read the csv file\n",
    "\n",
    "label_encoder = LabelEncoder()                                      # chnage the none intger cloumns to intger cloumns\n",
    "df['prognosis'] = label_encoder.fit_transform(df['prognosis'])\n",
    "\n",
    "X = df.drop(columns=['prognosis'])                                  # createting the training set\n",
    "y = df['prognosis']                                                 # createing the model result set\n"
   ]
  },
  {
   "cell_type": "code",
   "execution_count": 31,
   "metadata": {},
   "outputs": [],
   "source": [
    "X_train, X_test,y_train, y_test = train_test_split(X,y,test_size= 0.1)      # spliting the dataset into training data set and testing data set\n",
    "                                                                            # 0.1 is taking 10% to testing data set\n",
    "                                                                            \n",
    "dt_model = DecisionTreeRegressor()                                          # init the decicion tree class\n",
    "dt_model.fit(X_train,y_train)                                               # training the model\n",
    "\n",
    "predections = dt_model.predict(X_test)                                      # testing the model with testing data set and graping it;s predections"
   ]
  },
  {
   "cell_type": "code",
   "execution_count": 32,
   "metadata": {},
   "outputs": [
    {
     "data": {
      "text/plain": [
       "1.0"
      ]
     },
     "execution_count": 32,
     "metadata": {},
     "output_type": "execute_result"
    }
   ],
   "source": [
    "cm = accuracy_score(y_test, predections)                                    # comparing the predections to the testing data set to get accuracy score\n",
    "cm                                                                          # showing the accuracy score"
   ]
  }
 ],
 "metadata": {
  "kernelspec": {
   "display_name": "Python 3",
   "language": "python",
   "name": "python3"
  },
  "language_info": {
   "codemirror_mode": {
    "name": "ipython",
    "version": 3
   },
   "file_extension": ".py",
   "mimetype": "text/x-python",
   "name": "python",
   "nbconvert_exporter": "python",
   "pygments_lexer": "ipython3",
   "version": "3.11.0"
  },
  "orig_nbformat": 4,
  "vscode": {
   "interpreter": {
    "hash": "c261aea317cc0286b3b3261fbba9abdec21eaa57589985bb7a274bf54d6cc0a7"
   }
  }
 },
 "nbformat": 4,
 "nbformat_minor": 2
}
