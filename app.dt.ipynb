{
 "cells": [
  {
   "cell_type": "code",
   "execution_count": 126,
   "metadata": {},
   "outputs": [],
   "source": [
    "import pandas as pd\n",
    "from sklearn.model_selection import train_test_split\n",
    "from sklearn.tree import DecisionTreeRegressor        \n",
    "from sklearn.preprocessing import LabelEncoder       \n",
    "from sklearn.metrics import accuracy_score\n"
   ]
  },
  {
   "cell_type": "code",
   "execution_count": 127,
   "metadata": {},
   "outputs": [],
   "source": [
    "df = pd.read_csv('Patient.csv',sep=';')\n",
    "df = df.drop(columns=['Patient Id'])  # Patient Id cloumn\n",
    "\n",
    "# replace Yes/No to 1/0\n",
    "\n",
    "replace_map = {'Yes':1 , 'No': 0}\n",
    "df['Sore Throat']       = df['Sore Throat'].map(replace_map)\n",
    "df['Fever']             = df['Fever'].map(replace_map)\n",
    "df['Swollen Giands']    = df['Swollen Giands'].map(replace_map)\n",
    "df['Congestion']        = df['Congestion'].map(replace_map)\n",
    "df['Headache']          = df['Headache'].map(replace_map)\n",
    "\n",
    "label_encoder = LabelEncoder()\n",
    "df['Diagnosis'] = label_encoder.fit_transform(df['Diagnosis'])\n",
    "\n",
    "X = df.drop(columns=['Diagnosis'])\n",
    "y = df['Diagnosis']\n",
    "\n"
   ]
  },
  {
   "cell_type": "code",
   "execution_count": 128,
   "metadata": {},
   "outputs": [],
   "source": [
    "X_train, X_test,y_train, y_test = train_test_split(X,y,test_size= 0.1)\n",
    "dt_model = DecisionTreeRegressor()\n",
    "dt_model.fit(X_train,y_train)\n",
    "\n",
    "predections = dt_model.predict(X_test)"
   ]
  },
  {
   "cell_type": "code",
   "execution_count": 129,
   "metadata": {},
   "outputs": [
    {
     "data": {
      "text/plain": [
       "1.0"
      ]
     },
     "execution_count": 129,
     "metadata": {},
     "output_type": "execute_result"
    }
   ],
   "source": [
    "cm = accuracy_score(y_test, predections)\n",
    "cm"
   ]
  }
 ],
 "metadata": {
  "kernelspec": {
   "display_name": "Python 3.10.8 64-bit (microsoft store)",
   "language": "python",
   "name": "python3"
  },
  "language_info": {
   "codemirror_mode": {
    "name": "ipython",
    "version": 3
   },
   "file_extension": ".py",
   "mimetype": "text/x-python",
   "name": "python",
   "nbconvert_exporter": "python",
   "pygments_lexer": "ipython3",
   "version": "3.10.8"
  },
  "orig_nbformat": 4,
  "vscode": {
   "interpreter": {
    "hash": "fa665f2ec35c44fd308f5632f643fdfea87c9b0e9b4a20912cc75a3f4c081b7c"
   }
  }
 },
 "nbformat": 4,
 "nbformat_minor": 2
}
